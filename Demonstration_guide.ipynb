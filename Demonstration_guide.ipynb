{
 "cells": [
  {
   "cell_type": "markdown",
   "id": "99592bcd",
   "metadata": {},
   "source": [
    "# Preface:\n",
    "\n",
    "The entire work consists of a total of 6 *.py* files, which are (1) \"basic_4_functions\" ; (2) \"ext1.py\" ; (3) \"ext12.py\" ; (4) \"ext123.py\" ; (5) \"extall.py\" and (6) \"all_extensions_in_class.py\"\n",
    "\n",
    "The guide will go through every *.py* files and describe how to use them."
   ]
  },
  {
   "cell_type": "markdown",
   "id": "3be5ab60",
   "metadata": {},
   "source": [
    "# (1) basic_4_functions.py\n",
    "\n",
    "This is the most basic file that contains 4 necessary functions: **fun_1, fun_2, fun_3 and fun_4**.\n",
    "\n",
    "- `fun_1` takes a message and turns it into a DNA str using codons of 4 bases.\n",
    "- `fun_2` takes a DNA str and decodes it into the original message.\n",
    "- `fun_3` takes the encoded DNA str to a text file called **\"basic_version_encoded.txt\"**.\n",
    "- `fun_4` takes the name of the text file and extract the stored DNA str from it."
   ]
  },
  {
   "cell_type": "code",
   "execution_count": 1,
   "id": "b2ec594b",
   "metadata": {},
   "outputs": [
    {
     "name": "stdout",
     "output_type": "stream",
     "text": [
      "TCCATCTTTCGATCGATCGGACAATGTGTCGGTGACTCGATCTA\n"
     ]
    }
   ],
   "source": [
    "from basic_4_functions import *\n",
    "# test fun_1: \n",
    "# the encoded DNA str is programmed to be printed\n",
    "test_fun_1 = fun_1('hello world')"
   ]
  },
  {
   "cell_type": "code",
   "execution_count": 2,
   "id": "83c05cf6",
   "metadata": {},
   "outputs": [
    {
     "name": "stdout",
     "output_type": "stream",
     "text": [
      "The coded message is: hello world\n"
     ]
    }
   ],
   "source": [
    "# test fun_2:\n",
    "test_fun_2 = fun_2(test_fun_1)"
   ]
  },
  {
   "cell_type": "code",
   "execution_count": 3,
   "id": "68228f91",
   "metadata": {},
   "outputs": [
    {
     "name": "stdout",
     "output_type": "stream",
     "text": [
      "The encoded DNA is stored in: basic_version_encoded.txt\n"
     ]
    }
   ],
   "source": [
    "# test fun_3:\n",
    "test_fun_3 = fun_3(test_fun_1)"
   ]
  },
  {
   "cell_type": "code",
   "execution_count": 4,
   "id": "07b4ea2a",
   "metadata": {},
   "outputs": [
    {
     "name": "stdout",
     "output_type": "stream",
     "text": [
      "file has been received\n",
      "TCCATCTTTCGATCGATCGGACAATGTGTCGGTGACTCGATCTA\n"
     ]
    }
   ],
   "source": [
    "# test fun_4:\n",
    "test_fun_4 = fun_4(test_fun_3)\n",
    "print(test_fun_4)"
   ]
  },
  {
   "cell_type": "markdown",
   "id": "938c3ff1",
   "metadata": {},
   "source": [
    "# (2) ext1.py\n",
    "\n",
    "This file integrates the 4 functions in the \"basic_4_functions.py\" and adds the 1st extension that has the ability to locate and read an encoded message when it is inserted into an arbitary DNA seq at an arbitary pos.\n",
    "\n",
    "It has 2 main functions: **ext1_encode, and ext1_decode**.\n",
    "\n",
    "- `ext1_encode` takes a message input, encodes it using codons of 4 bases, and after adding tags to the encoded DNA seq, it inserts the DNA seq into a random DNA library (default length of the DNA library is 500) and finally stores the whole DNA paragraph to a text file called **\"ext1_encoded.txt\"**.\n",
    "- `ext1_decode` takes the name of the text file, extracts the stored information, finds the region of encoded DNA seq via tags, and finally retrieves the message encoded."
   ]
  },
  {
   "cell_type": "code",
   "execution_count": 5,
   "id": "79a95bdf",
   "metadata": {},
   "outputs": [
    {
     "name": "stdout",
     "output_type": "stream",
     "text": [
      "The encoded DNA is stored in: ext1_encoded.txt\n"
     ]
    }
   ],
   "source": [
    "from ext1 import *\n",
    "# test ext1_encode:\n",
    "test_ext1_encode = ext1_encode('hello python')"
   ]
  },
  {
   "cell_type": "code",
   "execution_count": 6,
   "id": "1c6a31e3",
   "metadata": {},
   "outputs": [
    {
     "name": "stdout",
     "output_type": "stream",
     "text": [
      "The coded message is: hello python\n"
     ]
    }
   ],
   "source": [
    "# test ext1_decode:\n",
    "test_ext1_decode = ext1_decode(test_ext1_encode)"
   ]
  },
  {
   "cell_type": "markdown",
   "id": "78612597",
   "metadata": {},
   "source": [
    "# (3) ext12.py\n",
    "\n",
    "This adds an another entension to the \"ext1.py\" that it has the ability to add to the encoded message seq a checksum val as a crosscheck on the integrity of the encoded seq, and it can also check a decoded message using the checksum val.\n",
    "\n",
    "It still has 2 main functions: **ext12_encode, and ext12_decode**.\n",
    "\n",
    "- `ext12_encode` works similarly to ext1_encode, except that there is an additional step to add a checksum val to the encoded seq.\n",
    "\n",
    "  (DNA_seq_insert = 'Tag'+DNA_seq + 'checksum_val' + 'Tag')\n",
    "  \n",
    "  \n",
    "- `ext12_decode` also has similar functions to ext1_decode, but has the ability to perform a checksum test and displays its result."
   ]
  },
  {
   "cell_type": "code",
   "execution_count": 7,
   "id": "c4cbf9a8",
   "metadata": {},
   "outputs": [
    {
     "name": "stdout",
     "output_type": "stream",
     "text": [
      "The encoded DNA is stored in: ext12_encoded.txt, and a checksum value is added\n"
     ]
    }
   ],
   "source": [
    "from ext12 import *\n",
    "# test ext12_encode:\n",
    "test_ext12_encode = ext12_encode('hello python world')"
   ]
  },
  {
   "cell_type": "code",
   "execution_count": 8,
   "id": "15072672",
   "metadata": {},
   "outputs": [
    {
     "name": "stdout",
     "output_type": "stream",
     "text": [
      "The result of the checksum test is: True\n",
      "The coded message is: hello python world\n"
     ]
    }
   ],
   "source": [
    "# test ext12_decode:\n",
    "test_ext12_decode = ext12_decode(test_ext12_encode)"
   ]
  },
  {
   "cell_type": "markdown",
   "id": "ac697c3d",
   "metadata": {},
   "source": [
    "# (4) ext123.py\n",
    "\n",
    "\n",
    "This adds an another entension to the \"ext12.py\" that it can take a reference genome file as a one-time pad to encrypt the input message and only with the reference genome file, the message can be decrypted.\n",
    "\n",
    "It has 2 main functions: **ext123_encode, and ext123_decode**.\n",
    "\n",
    "- `ext123_encode` is similar to ext12_encode but with the extra ability to take a reference genome and further encrypt the message.(The reference genome used here is the sequence from watermelon chromosome 1,its FASTA seq can be found in: https://www.ncbi.nlm.nih.gov/nuccore/CM018018.1?report=fasta)\n",
    "\n",
    "- `ext123_decode` takes the filename and reference genome and decodes the DNA seq into the stored message."
   ]
  },
  {
   "cell_type": "code",
   "execution_count": 9,
   "id": "7bd80d54",
   "metadata": {},
   "outputs": [
    {
     "name": "stdout",
     "output_type": "stream",
     "text": [
      "The encoded DNA is stored in: ext123_encoded.txt\n"
     ]
    }
   ],
   "source": [
    "from ext123 import*\n",
    "# test ext123_encode:\n",
    "test_ext123_encode = ext123_encode('hello world again')"
   ]
  },
  {
   "cell_type": "code",
   "execution_count": 12,
   "id": "4cc274bf",
   "metadata": {},
   "outputs": [
    {
     "name": "stdout",
     "output_type": "stream",
     "text": [
      "The result of the checksum test is: True\n",
      "The coded message is: hello world again\n"
     ]
    }
   ],
   "source": [
    "# test ext123_decode:\n",
    "# prepare reference genome:\n",
    "f = open('ref_genome_watermelon_chro1.txt','r')\n",
    "reference_genome = f.read()\n",
    "reference_genome = reference_genome.replace('\\n','')\n",
    "\n",
    "test_ext123_decode = ext123_decode(test_ext123_encode, reference_genome)"
   ]
  },
  {
   "cell_type": "markdown",
   "id": "96d3bdca",
   "metadata": {},
   "source": [
    "# (5) extall.py\n",
    "\n",
    "This file contains all extensions that uses a randomised dictionary and can take unicode input.\n",
    "\n",
    "It has 2 main functions: **extall_encode, and extall_decode**.\n",
    "\n",
    "- `extall_encode`\n",
    "\n",
    "- `extall_decode`"
   ]
  },
  {
   "cell_type": "code",
   "execution_count": 28,
   "id": "9f068800",
   "metadata": {},
   "outputs": [
    {
     "name": "stdout",
     "output_type": "stream",
     "text": [
      "The encoded DNA is stored in: extall_encoded.txt\n"
     ]
    }
   ],
   "source": [
    "from extall import *\n",
    "# test extall_encode:\n",
    "test_extall_encode = extall_encode('你好')"
   ]
  },
  {
   "cell_type": "code",
   "execution_count": 27,
   "id": "867a5316",
   "metadata": {},
   "outputs": [],
   "source": [
    "# get random dict from json files\n",
    "with open('Ranhex_to_codon_dict.json','r') as file_object:  \n",
    "  hex_to_codon_dict = json.load(file_object) \n",
    "\n",
    "with open('Rancodon_to_hex_dict.json','r') as file_object:  \n",
    "  codon_to_hex_dict = json.load(file_object) \n",
    "\n",
    "with open('allRancodon_to_number_dict.json','r') as file_object:  \n",
    "  codon_to_numbers_dict = json.load(file_object) \n",
    "\n",
    "with open('allRannumber_to_codon_dict.json','r') as file_object:  \n",
    "  numbers_to_codon_dict = json.load(file_object) "
   ]
  },
  {
   "cell_type": "code",
   "execution_count": 29,
   "id": "020c18f8",
   "metadata": {},
   "outputs": [
    {
     "name": "stdout",
     "output_type": "stream",
     "text": [
      "The result of the checksum test is: True\n",
      "The coded message is: 你好\n"
     ]
    }
   ],
   "source": [
    "# test extall_decode:\n",
    "test_extall_decode = extall_decode(test_extall_encode, reference_genome)"
   ]
  },
  {
   "cell_type": "markdown",
   "id": "be6111d3",
   "metadata": {},
   "source": [
    "# (6) all_extensions_in_class.py\n",
    "\n"
   ]
  },
  {
   "cell_type": "code",
   "execution_count": 33,
   "id": "6fba747c",
   "metadata": {},
   "outputs": [
    {
     "name": "stdout",
     "output_type": "stream",
     "text": [
      "The encoded DNA is stored in: class_encoded.txt\n"
     ]
    }
   ],
   "source": [
    "from all_extensions_in_class import *\n",
    "# test\n",
    "test_class_encode = Encrypt('hello world + 你好',reference_genome)\n",
    "test = test_class_encode.encode()"
   ]
  },
  {
   "cell_type": "code",
   "execution_count": 34,
   "id": "e7a8fccc",
   "metadata": {},
   "outputs": [
    {
     "name": "stdout",
     "output_type": "stream",
     "text": [
      "The result of the checksum test is: True\n",
      "The coded message is: hello world + 你好\n"
     ]
    }
   ],
   "source": [
    "# test\n",
    "test_class_decode = Decrypt(test, reference_genome)\n",
    "test_output = test_class_decode.decode()"
   ]
  }
 ],
 "metadata": {
  "kernelspec": {
   "display_name": "Python 3",
   "language": "python",
   "name": "python3"
  },
  "language_info": {
   "codemirror_mode": {
    "name": "ipython",
    "version": 3
   },
   "file_extension": ".py",
   "mimetype": "text/x-python",
   "name": "python",
   "nbconvert_exporter": "python",
   "pygments_lexer": "ipython3",
   "version": "3.8.8"
  }
 },
 "nbformat": 4,
 "nbformat_minor": 5
}
